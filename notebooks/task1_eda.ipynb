{
 "cells": [
  {
   "cell_type": "markdown",
   "id": "950c2e5d-74d7-47bf-8e32-c0e98bfb5b65",
   "metadata": {},
   "source": [
    "### Load the dataset"
   ]
  },
  {
   "cell_type": "code",
   "execution_count": 1,
   "id": "bf4d4204-4b6f-405b-8327-568fcf5f62ad",
   "metadata": {},
   "outputs": [
    {
     "name": "stderr",
     "output_type": "stream",
     "text": [
      "C:\\Users\\zyona\\AppData\\Local\\Temp\\ipykernel_18680\\3613877866.py:4: DtypeWarning: Columns (16) have mixed types. Specify dtype option on import or set low_memory=False.\n",
      "  df = pd.read_csv('../data/complaints.csv')\n"
     ]
    },
    {
     "name": "stdout",
     "output_type": "stream",
     "text": [
      "Dataset Info:\n",
      "<class 'pandas.core.frame.DataFrame'>\n",
      "RangeIndex: 9609797 entries, 0 to 9609796\n",
      "Data columns (total 18 columns):\n",
      " #   Column                        Dtype \n",
      "---  ------                        ----- \n",
      " 0   Date received                 object\n",
      " 1   Product                       object\n",
      " 2   Sub-product                   object\n",
      " 3   Issue                         object\n",
      " 4   Sub-issue                     object\n",
      " 5   Consumer complaint narrative  object\n",
      " 6   Company public response       object\n",
      " 7   Company                       object\n",
      " 8   State                         object\n",
      " 9   ZIP code                      object\n",
      " 10  Tags                          object\n",
      " 11  Consumer consent provided?    object\n",
      " 12  Submitted via                 object\n",
      " 13  Date sent to company          object\n",
      " 14  Company response to consumer  object\n",
      " 15  Timely response?              object\n",
      " 16  Consumer disputed?            object\n",
      " 17  Complaint ID                  int64 \n",
      "dtypes: int64(1), object(17)\n",
      "memory usage: 1.3+ GB\n",
      "None\n",
      "\n",
      "First 5 rows:\n",
      "  Date received                                            Product  \\\n",
      "0    2025-06-20  Credit reporting or other personal consumer re...   \n",
      "1    2025-06-20                                    Debt collection   \n",
      "2    2025-06-20  Credit reporting or other personal consumer re...   \n",
      "3    2025-06-20  Credit reporting or other personal consumer re...   \n",
      "4    2025-06-20  Credit reporting or other personal consumer re...   \n",
      "\n",
      "               Sub-product                                 Issue  \\\n",
      "0         Credit reporting  Incorrect information on your report   \n",
      "1  Telecommunications debt     Attempts to collect debt not owed   \n",
      "2         Credit reporting           Improper use of your report   \n",
      "3         Credit reporting           Improper use of your report   \n",
      "4         Credit reporting  Incorrect information on your report   \n",
      "\n",
      "                                       Sub-issue Consumer complaint narrative  \\\n",
      "0            Information belongs to someone else                          NaN   \n",
      "1                              Debt is not yours                          NaN   \n",
      "2  Reporting company used your report improperly                          NaN   \n",
      "3  Reporting company used your report improperly                          NaN   \n",
      "4                       Account status incorrect                          NaN   \n",
      "\n",
      "                             Company public response  \\\n",
      "0                                                NaN   \n",
      "1  Company can't verify or dispute the facts in t...   \n",
      "2                                                NaN   \n",
      "3                                                NaN   \n",
      "4                                                NaN   \n",
      "\n",
      "                                        Company State ZIP code Tags  \\\n",
      "0           Experian Information Solutions Inc.    FL    32092  NaN   \n",
      "1  Eastern Account Systems of Connecticut, Inc.    FL    342XX  NaN   \n",
      "2        TRANSUNION INTERMEDIATE HOLDINGS, INC.    AZ    85225  NaN   \n",
      "3           Experian Information Solutions Inc.    AZ    85225  NaN   \n",
      "4           Experian Information Solutions Inc.    IL    60628  NaN   \n",
      "\n",
      "  Consumer consent provided? Submitted via Date sent to company  \\\n",
      "0                        NaN           Web           2025-06-20   \n",
      "1                        NaN           Web           2025-06-20   \n",
      "2                        NaN           Web           2025-06-20   \n",
      "3                        NaN           Web           2025-06-20   \n",
      "4                        NaN           Web           2025-06-20   \n",
      "\n",
      "  Company response to consumer Timely response? Consumer disputed?  \\\n",
      "0                  In progress              Yes                NaN   \n",
      "1      Closed with explanation              Yes                NaN   \n",
      "2                  In progress              Yes                NaN   \n",
      "3                  In progress              Yes                NaN   \n",
      "4                  In progress              Yes                NaN   \n",
      "\n",
      "   Complaint ID  \n",
      "0      14195687  \n",
      "1      14195688  \n",
      "2      14195689  \n",
      "3      14195690  \n",
      "4      14195692  \n",
      "\n",
      "Columns: ['Date received', 'Product', 'Sub-product', 'Issue', 'Sub-issue', 'Consumer complaint narrative', 'Company public response', 'Company', 'State', 'ZIP code', 'Tags', 'Consumer consent provided?', 'Submitted via', 'Date sent to company', 'Company response to consumer', 'Timely response?', 'Consumer disputed?', 'Complaint ID']\n"
     ]
    }
   ],
   "source": [
    "import pandas as pd\n",
    "\n",
    "# Load dataset\n",
    "df = pd.read_csv('../data/complaints.csv')\n",
    "\n",
    "# Display basic info\n",
    "print(\"Dataset Info:\")\n",
    "print(df.info())\n",
    "print(\"\\nFirst 5 rows:\")\n",
    "print(df.head())\n",
    "\n",
    "# Display column names\n",
    "print(\"\\nColumns:\", df.columns.tolist())"
   ]
  },
  {
   "cell_type": "markdown",
   "id": "e36e739d-682a-4e6f-890b-39949b445cdf",
   "metadata": {},
   "source": [
    "### Initial EDA"
   ]
  },
  {
   "cell_type": "code",
   "execution_count": 3,
   "id": "6949295e-c8e3-4266-a350-b4e2ec3a6613",
   "metadata": {},
   "outputs": [
    {
     "name": "stdout",
     "output_type": "stream",
     "text": [
      "\n",
      "Missing Values:\n",
      "Date received                         0\n",
      "Product                               0\n",
      "Sub-product                      235295\n",
      "Issue                                 6\n",
      "Sub-issue                        839522\n",
      "Consumer complaint narrative    6629041\n",
      "Company public response         4770207\n",
      "Company                               0\n",
      "State                             54516\n",
      "ZIP code                          30228\n",
      "Tags                            8981029\n",
      "Consumer consent provided?      1649561\n",
      "Submitted via                         0\n",
      "Date sent to company                  0\n",
      "Company response to consumer         20\n",
      "Timely response?                      0\n",
      "Consumer disputed?              8841498\n",
      "Complaint ID                          0\n",
      "dtype: int64\n"
     ]
    }
   ],
   "source": [
    "print(\"\\nMissing Values:\")\n",
    "print(df.isnull().sum())"
   ]
  },
  {
   "cell_type": "code",
   "execution_count": 4,
   "id": "cb0bac30-13b6-41d3-aa9f-f90a441c1d01",
   "metadata": {},
   "outputs": [
    {
     "name": "stdout",
     "output_type": "stream",
     "text": [
      "\n",
      "Unique Products:\n",
      "Product\n",
      "Credit reporting or other personal consumer reports                             4834855\n",
      "Credit reporting, credit repair services, or other personal consumer reports    2163857\n",
      "Debt collection                                                                  799197\n",
      "Mortgage                                                                         422254\n",
      "Checking or savings account                                                      291178\n",
      "Credit card                                                                      226686\n",
      "Credit card or prepaid card                                                      206369\n",
      "Money transfer, virtual currency, or money service                               145066\n",
      "Credit reporting                                                                 140429\n",
      "Student loan                                                                     109717\n",
      "Bank account or service                                                           86205\n",
      "Vehicle loan or lease                                                             72957\n",
      "Consumer Loan                                                                     31574\n",
      "Payday loan, title loan, or personal loan                                         30641\n",
      "Payday loan, title loan, personal loan, or advance loan                           16514\n",
      "Prepaid card                                                                      15280\n",
      "Payday loan                                                                        5541\n",
      "Money transfers                                                                    5354\n",
      "Debt or credit management                                                          5047\n",
      "Other financial service                                                            1058\n",
      "Virtual currency                                                                     18\n",
      "Name: count, dtype: int64\n"
     ]
    }
   ],
   "source": [
    "print(\"\\nUnique Products:\")\n",
    "print(df['Product'].value_counts())"
   ]
  },
  {
   "cell_type": "markdown",
   "id": "40e01d3a-5c48-4227-a844-35ec1c091ecf",
   "metadata": {},
   "source": [
    "### Analyze Distribution of Complaints Across Products"
   ]
  },
  {
   "cell_type": "code",
   "execution_count": 6,
   "id": "e93719b9-3a36-482f-8036-ad8eebee688a",
   "metadata": {},
   "outputs": [
    {
     "data": {
      "image/png": "[encoded data removed]",
      "text/plain": [
       "<Figure size 1000x600 with 1 Axes>"
      ]
     },
     "metadata": {},
     "output_type": "display_data"
    },
    {
     "name": "stdout",
     "output_type": "stream",
     "text": [
      "\n",
      "Complaint Counts by Category:\n",
      "Category\n",
      "Credit Cards          433055\n",
      "Savings Accounts      291178\n",
      "Money Transfers       145066\n",
      "Personal Loans         62215\n",
      "Buy Now, Pay Later     16514\n",
      "Name: count, dtype: int64\n"
     ]
    }
   ],
   "source": [
    "import seaborn as sns\n",
    "import matplotlib.pyplot as plt\n",
    "\n",
    "# Define target products based on EDA\n",
    "target_products = [\n",
    "    'Credit card',\n",
    "    'Credit card or prepaid card',\n",
    "    'Consumer Loan',\n",
    "    'Payday loan, title loan, or personal loan',\n",
    "    'Payday loan, title loan, personal loan, or advance loan',\n",
    "    'Checking or savings account',\n",
    "    'Money transfer, virtual currency, or money service'\n",
    "]\n",
    "\n",
    "# Map dataset product names to project categories for clarity\n",
    "product_mapping = {\n",
    "    'Credit card': 'Credit Cards',\n",
    "    'Credit card or prepaid card': 'Credit Cards',\n",
    "    'Consumer Loan': 'Personal Loans',\n",
    "    'Payday loan, title loan, or personal loan': 'Personal Loans',\n",
    "    'Payday loan, title loan, personal loan, or advance loan': 'Buy Now, Pay Later',\n",
    "    'Checking or savings account': 'Savings Accounts',\n",
    "    'Money transfer, virtual currency, or money service': 'Money Transfers'\n",
    "}\n",
    "\n",
    "# Filter dataset for target products\n",
    "df_target = df[df['Product'].isin(target_products)].copy()\n",
    "\n",
    "# Map product names to project categories\n",
    "df_target['Category'] = df_target['Product'].map(product_mapping)\n",
    "\n",
    "# Plot distribution\n",
    "plt.figure(figsize=(10, 6))\n",
    "sns.countplot(y='Category', data=df_target, order=df_target['Category'].value_counts().index)\n",
    "plt.title('Distribution of Complaints Across Financial Products')\n",
    "plt.xlabel('Number of Complaints')\n",
    "plt.ylabel('Product Category')\n",
    "plt.savefig('../reports/product_distribution.png')\n",
    "plt.show()\n",
    "\n",
    "# Print summary for verification\n",
    "print(\"\\nComplaint Counts by Category:\")\n",
    "print(df_target['Category'].value_counts())"
   ]
  },
  {
   "cell_type": "markdown",
   "id": "0eacfe2f-0a6a-4eba-a416-2225f5dea256",
   "metadata": {},
   "source": [
    "### Calculating word count"
   ]
  },
  {
   "cell_type": "code",
   "execution_count": 7,
   "id": "7a1fb063-b5ab-4011-8e15-5fdf06d2cd6c",
   "metadata": {},
   "outputs": [
    {
     "name": "stdout",
     "output_type": "stream",
     "text": [
      "\n",
      "Narrative Length Statistics:\n",
      "count    2.980756e+06\n",
      "mean     1.755976e+02\n",
      "std      2.259282e+02\n",
      "min      1.000000e+00\n",
      "25%      5.900000e+01\n",
      "50%      1.140000e+02\n",
      "75%      2.090000e+02\n",
      "max      6.469000e+03\n",
      "Name: narrative_length, dtype: float64\n"
     ]
    },
    {
     "data": {
      "image/png": "[encoded data removed]",
      "text/plain": [
       "<Figure size 1000x600 with 1 Axes>"
      ]
     },
     "metadata": {},
     "output_type": "display_data"
    }
   ],
   "source": [
    "# Calculate word count\n",
    "df['narrative_length'] = df['Consumer complaint narrative'].dropna().apply(lambda x: len(str(x).split()))\n",
    "\n",
    "# Summary statistics\n",
    "print(\"\\nNarrative Length Statistics:\")\n",
    "print(df['narrative_length'].describe())\n",
    "\n",
    "# Plot histogram\n",
    "plt.figure(figsize=(10, 6))\n",
    "sns.histplot(df['narrative_length'].dropna(), bins=50, kde=True)\n",
    "plt.title('Distribution of Narrative Word Counts')\n",
    "plt.xlabel('Word Count')\n",
    "plt.ylabel('Frequency')\n",
    "plt.savefig('../reports/narrative_length_histogram.png')\n",
    "plt.show()"
   ]
  },
  {
   "cell_type": "markdown",
   "id": "666f07bd-2df0-4701-8f00-180d9cb6efc1",
   "metadata": {},
   "source": [
    "### Identify complaints with/without narratives"
   ]
  },
  {
   "cell_type": "code",
   "execution_count": 8,
   "id": "f1606879-5888-448c-94b3-7e7f0bd2443b",
   "metadata": {},
   "outputs": [
    {
     "name": "stdout",
     "output_type": "stream",
     "text": [
      "\n",
      "Complaints with Narratives:\n",
      "Total Complaints: 9609797\n",
      "With Narrative: 2980756\n",
      "Without Narrative: 6629041\n"
     ]
    }
   ],
   "source": [
    "print(\"\\nComplaints with Narratives:\")\n",
    "print(f\"Total Complaints: {len(df)}\")\n",
    "print(f\"With Narrative: {df['Consumer complaint narrative'].notnull().sum()}\")\n",
    "print(f\"Without Narrative: {df['Consumer complaint narrative'].isnull().sum()}\")"
   ]
  },
  {
   "cell_type": "markdown",
   "id": "616e52ad-d782-4851-a37c-6a5fe2bda9d3",
   "metadata": {},
   "source": [
    "### Filter Dataset"
   ]
  },
  {
   "cell_type": "code",
   "execution_count": 9,
   "id": "d54bb73d-db7e-49ca-a2ee-ae3a0bd63904",
   "metadata": {},
   "outputs": [
    {
     "name": "stdout",
     "output_type": "stream",
     "text": [
      "\n",
      "Filtered Dataset Size:\n",
      "462436\n"
     ]
    }
   ],
   "source": [
    "# Filter for target products and non-empty narratives\n",
    "df_filtered = df[\n",
    "    (df['Product'].isin(target_products)) &\n",
    "    (df['Consumer complaint narrative'].notnull()) &\n",
    "    (df['Consumer complaint narrative'].str.strip() != '')\n",
    "]\n",
    "\n",
    "print(\"\\nFiltered Dataset Size:\")\n",
    "print(len(df_filtered))"
   ]
  },
  {
   "cell_type": "markdown",
   "id": "509a0d44-5cb4-439f-980c-426874b6179f",
   "metadata": {},
   "source": [
    "### Clean Text Narratives"
   ]
  },
  {
   "cell_type": "code",
   "execution_count": 10,
   "id": "bbf8645d-a893-4b2d-9816-84cd7229b9be",
   "metadata": {},
   "outputs": [
    {
     "name": "stderr",
     "output_type": "stream",
     "text": [
      "C:\\Users\\zyona\\AppData\\Local\\Temp\\ipykernel_18680\\2401061912.py:19: SettingWithCopyWarning: \n",
      "A value is trying to be set on a copy of a slice from a DataFrame.\n",
      "Try using .loc[row_indexer,col_indexer] = value instead\n",
      "\n",
      "See the caveats in the documentation: https://pandas.pydata.org/pandas-docs/stable/user_guide/indexing.html#returning-a-view-versus-a-copy\n",
      "  df_filtered['cleaned_narrative'] = df_filtered['Consumer complaint narrative'].apply(clean_text)\n"
     ]
    },
    {
     "name": "stdout",
     "output_type": "stream",
     "text": [
      "\n",
      "Sample Cleaned Narratives:\n",
      "                            Consumer complaint narrative  \\\n",
      "12237  A XXXX XXXX card was opened under my name by a...   \n",
      "12532  I made the mistake of using my wellsfargo debi...   \n",
      "13280  Dear CFPB, I have a secured credit card with c...   \n",
      "13506  I have a Citi rewards cards. The credit balanc...   \n",
      "13955  b'I am writing to dispute the following charge...   \n",
      "\n",
      "                                       cleaned_narrative  \n",
      "12237  a xxxx xxxx card was opened under my name by a...  \n",
      "12532  i made the mistake of using my wellsfargo debi...  \n",
      "13280  dear cfpb i have a secured credit card with ci...  \n",
      "13506  i have a citi rewards cards the credit balance...  \n",
      "13955  bi am writing to dispute the following charges...  \n"
     ]
    }
   ],
   "source": [
    "import re\n",
    "import nltk\n",
    "from nltk.tokenize import word_tokenize\n",
    "\n",
    "def clean_text(text):\n",
    "    # Lowercase\n",
    "    text = text.lower()\n",
    "    # Remove special characters\n",
    "    text = re.sub(r'[^\\w\\s]', '', text)\n",
    "    # Remove extra whitespace\n",
    "    text = re.sub(r'\\s+', ' ', text).strip()\n",
    "    # Remove boilerplate \n",
    "    boilerplate = ['i am writing to file a complaint', 'please assist']\n",
    "    for phrase in boilerplate:\n",
    "        text = text.replace(phrase, '')\n",
    "    return text\n",
    "\n",
    "# Apply cleaning\n",
    "df_filtered['cleaned_narrative'] = df_filtered['Consumer complaint narrative'].apply(clean_text)\n",
    "\n",
    "# Verify cleaning\n",
    "print(\"\\nSample Cleaned Narratives:\")\n",
    "print(df_filtered[['Consumer complaint narrative', 'cleaned_narrative']].head())"
   ]
  },
  {
   "cell_type": "markdown",
   "id": "faffa431-3e38-4fba-adde-820445b7b2d2",
   "metadata": {},
   "source": [
    "### Save filtered data"
   ]
  },
  {
   "cell_type": "code",
   "execution_count": 11,
   "id": "d7a65b82-97d6-4724-bc20-0b2b2aa92767",
   "metadata": {},
   "outputs": [
    {
     "name": "stdout",
     "output_type": "stream",
     "text": [
      "\n",
      "Saved filtered dataset to '../data/filtered_complaints.csv'\n"
     ]
    }
   ],
   "source": [
    "df_filtered.to_csv('../data/filtered_complaints.csv', index=False)\n",
    "print(\"\\nSaved filtered dataset to '../data/filtered_complaints.csv'\")"
   ]
  },
  {
   "cell_type": "code",
   "execution_count": null,
   "id": "4427f38a-698a-4bca-b45f-60bad10a2d72",
   "metadata": {},
   "outputs": [],
   "source": []
  }
 ],
 "metadata": {
  "kernelspec": {
   "display_name": "Python 3 (ipykernel)",
   "language": "python",
   "name": "python3"
  },
  "language_info": {
   "codemirror_mode": {
    "name": "ipython",
    "version": 3
   },
   "file_extension": ".py",
   "mimetype": "text/x-python",
   "name": "python",
   "nbconvert_exporter": "python",
   "pygments_lexer": "ipython3",
   "version": "3.12.6"
  }
 },
 "nbformat": 4,
 "nbformat_minor": 5
}
